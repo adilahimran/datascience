{
 "cells": [
  {
   "cell_type": "markdown",
   "metadata": {},
   "source": [
    "# Exploring Insurance Charge through Regression Analysis\n",
    "Regression analysis was performed using Supervised Machine Learning predictive methods, particularly in regression so to predict the insurance charge amount through Python. 13 models with variation of regression modelling, including Linear regression, polynomial regression, regression with feature scaling, regularized regression, and regularized polynomial regression are evaluated in the study in order to derive best method to make prediction."
   ]
  },
  {
   "cell_type": "markdown",
   "metadata": {},
   "source": [
    "## Table of Contents\n",
    "- [Data Content](#Data-Content)\n",
    "- [Importing Required Modules](#Importing-Required-Modules)\n",
    "- [Exploring Dataset](#Exploring-Dataset)\n",
    "- [Pre-processing Data](#Pre-processing-Data)\n",
    "- [Model 1: Linear regression](#Model-1:-Linear-regression)\n",
    "- [Model 2: Polynomial linear regression (degree = 2)](#Model-2:-Polynomial-linear-regression-(degree-=-2))\n",
    "- [Model 3: Polynomial linear regression (degree = 3)](#Model-3:-Polynomial-linear-regression-(degree-=-3))\n",
    "- [Model 4: Linear regression with feature scaling](#Model-4:-Linear-regression-with-feature-scaling)\n",
    "- [Model 5: Regularized linear regression (Lasso)](#Model-5:-Regularized-linear-regression-(Lasso))\n",
    "- [Model 6: Regularized polynomial linear regression (Lasso) (degree = 2)](#Model-6:-Regularized-polynomial-linear-regression-(Lasso)-(degree-=-2))\n",
    "- [Model 7: Regularized polynomial linear regression (Lasso) (degree = 3)](#Model-7:-Regularized-polynomial-linear-regression-(Lasso)-(degree-=-3))\n",
    "- [Model 8: Regularized linear regression (Ridge)](#Model-8:-Regularized-linear-regression-(Ridge))\n",
    "- [Model 9: Regularized polynomial linear regression (Ridge) (degree = 2)](#Model-9:-Regularized-polynomial-linear-regression-(Ridge)-(degree-=-2))\n",
    "- [Model 10: Regularized polynomial linear regression (Ridge) (degree = 3)](#Model-10:-Regularized-polynomial-linear-regression-(Ridge)-(degree-=-3))\n",
    "- [Model 11: Regularized linear regression (ElasticNet)](#Model-11:-Regularized-linear-regression-(ElasticNet))\n",
    "- [Model 12: Regularized polynomial linear regression (ElasticNet) (degree = 2)](#Model-12:-Regularized-polynomial-linear-regression-(ElasticNet)-(degree-=-2))\n",
    "- [Model 13: Regularized polynomial linear regression (ElasticNet) (degree = 3)](#Model-13:-Regularized-polynomial-linear-regression-(ElasticNet)-(degree-=-3))\n",
    "- [Summary](#Summary)"
   ]
  },
  {
   "cell_type": "markdown",
   "metadata": {},
   "source": [
    "## Data Content \n",
    "\n",
    "age: age of primary beneficiary\n",
    "\n",
    "sex: insurance contractor gender, female, male\n",
    "\n",
    "bmi: Body mass index, providing an understanding of body, weights that are relatively high or low relative to height,\n",
    "objective index of body weight (kg / m ^ 2) using the ratio of height to weight, ideally 18.5 to 24.9\n",
    "\n",
    "children: Number of children covered by health insurance / Number of dependents\n",
    "\n",
    "smoker: Smoking\n",
    "\n",
    "region: the beneficiary's residential area in the US, northeast, southeast, southwest, northwest.\n",
    "\n",
    "charges: Individual medical costs billed by health insurance\n",
    "\n",
    "Inspiration\n",
    "\n",
    "Can you accurately predict insurance costs?"
   ]
  },
  {
   "cell_type": "markdown",
   "metadata": {},
   "source": [
    "## Importing Required Modules"
   ]
  },
  {
   "cell_type": "code",
   "execution_count": 1,
   "metadata": {},
   "outputs": [],
   "source": [
    "import matplotlib.pyplot as plt\n",
    "import seaborn as sns\n",
    "import numpy as np\n",
    "import pandas as pd\n",
    "from sklearn.preprocessing import MinMaxScaler\n",
    "from sklearn.metrics import r2_score , mean_squared_error\n",
    "from sklearn.model_selection import train_test_split\n",
    "from sklearn.linear_model import LinearRegression\n",
    "from sklearn.preprocessing import PolynomialFeatures , LabelEncoder\n",
    "from sklearn.tree import DecisionTreeRegressor , plot_tree\n",
    "from sklearn.ensemble import RandomForestRegressor\n",
    "from sklearn.pipeline import make_pipeline\n",
    "\n",
    "sns.set()"
   ]
  },
  {
   "cell_type": "markdown",
   "metadata": {},
   "source": [
    "## Exploring Dataset"
   ]
  },
  {
   "cell_type": "code",
   "execution_count": 2,
   "metadata": {},
   "outputs": [
    {
     "data": {
      "text/html": [
       "<div>\n",
       "<style scoped>\n",
       "    .dataframe tbody tr th:only-of-type {\n",
       "        vertical-align: middle;\n",
       "    }\n",
       "\n",
       "    .dataframe tbody tr th {\n",
       "        vertical-align: top;\n",
       "    }\n",
       "\n",
       "    .dataframe thead th {\n",
       "        text-align: right;\n",
       "    }\n",
       "</style>\n",
       "<table border=\"1\" class=\"dataframe\">\n",
       "  <thead>\n",
       "    <tr style=\"text-align: right;\">\n",
       "      <th></th>\n",
       "      <th>age</th>\n",
       "      <th>sex</th>\n",
       "      <th>bmi</th>\n",
       "      <th>children</th>\n",
       "      <th>smoker</th>\n",
       "      <th>region</th>\n",
       "      <th>charges</th>\n",
       "    </tr>\n",
       "  </thead>\n",
       "  <tbody>\n",
       "    <tr>\n",
       "      <th>0</th>\n",
       "      <td>19</td>\n",
       "      <td>female</td>\n",
       "      <td>27.900</td>\n",
       "      <td>0</td>\n",
       "      <td>yes</td>\n",
       "      <td>southwest</td>\n",
       "      <td>16884.92400</td>\n",
       "    </tr>\n",
       "    <tr>\n",
       "      <th>1</th>\n",
       "      <td>18</td>\n",
       "      <td>male</td>\n",
       "      <td>33.770</td>\n",
       "      <td>1</td>\n",
       "      <td>no</td>\n",
       "      <td>southeast</td>\n",
       "      <td>1725.55230</td>\n",
       "    </tr>\n",
       "    <tr>\n",
       "      <th>2</th>\n",
       "      <td>28</td>\n",
       "      <td>male</td>\n",
       "      <td>33.000</td>\n",
       "      <td>3</td>\n",
       "      <td>no</td>\n",
       "      <td>southeast</td>\n",
       "      <td>4449.46200</td>\n",
       "    </tr>\n",
       "    <tr>\n",
       "      <th>3</th>\n",
       "      <td>33</td>\n",
       "      <td>male</td>\n",
       "      <td>22.705</td>\n",
       "      <td>0</td>\n",
       "      <td>no</td>\n",
       "      <td>northwest</td>\n",
       "      <td>21984.47061</td>\n",
       "    </tr>\n",
       "    <tr>\n",
       "      <th>4</th>\n",
       "      <td>32</td>\n",
       "      <td>male</td>\n",
       "      <td>28.880</td>\n",
       "      <td>0</td>\n",
       "      <td>no</td>\n",
       "      <td>northwest</td>\n",
       "      <td>3866.85520</td>\n",
       "    </tr>\n",
       "  </tbody>\n",
       "</table>\n",
       "</div>"
      ],
      "text/plain": [
       "   age     sex     bmi  children smoker     region      charges\n",
       "0   19  female  27.900         0    yes  southwest  16884.92400\n",
       "1   18    male  33.770         1     no  southeast   1725.55230\n",
       "2   28    male  33.000         3     no  southeast   4449.46200\n",
       "3   33    male  22.705         0     no  northwest  21984.47061\n",
       "4   32    male  28.880         0     no  northwest   3866.85520"
      ]
     },
     "execution_count": 2,
     "metadata": {},
     "output_type": "execute_result"
    }
   ],
   "source": [
    "ins = pd.read_csv(\"data/insurance.csv\")\n",
    "ins.head()"
   ]
  },
  {
   "cell_type": "code",
   "execution_count": 3,
   "metadata": {},
   "outputs": [
    {
     "name": "stdout",
     "output_type": "stream",
     "text": [
      "<class 'pandas.core.frame.DataFrame'>\n",
      "RangeIndex: 1338 entries, 0 to 1337\n",
      "Data columns (total 7 columns):\n",
      " #   Column    Non-Null Count  Dtype  \n",
      "---  ------    --------------  -----  \n",
      " 0   age       1338 non-null   int64  \n",
      " 1   sex       1338 non-null   object \n",
      " 2   bmi       1338 non-null   float64\n",
      " 3   children  1338 non-null   int64  \n",
      " 4   smoker    1338 non-null   object \n",
      " 5   region    1338 non-null   object \n",
      " 6   charges   1338 non-null   float64\n",
      "dtypes: float64(2), int64(2), object(3)\n",
      "memory usage: 73.3+ KB\n"
     ]
    }
   ],
   "source": [
    "ins.info()"
   ]
  },
  {
   "cell_type": "markdown",
   "metadata": {},
   "source": [
    "## Pre-processing Data\n",
    "\n",
    "Transformation non-numerical labels to numerical labels.\n",
    "\n",
    "| Smoker | Label |\n",
    "|----|---|\n",
    "| No  | 0 |\n",
    "| Yes  | 1 |\n",
    "\n",
    "| Sex  | Label |\n",
    "|----|---|\n",
    "| Female  | 0 |\n",
    "| Male  | 1 |\n",
    "\n",
    "| Region  | Label |\n",
    "|----|---|\n",
    "| Northeast  | 0 |\n",
    "| Northwest  | 1 |\n",
    "| Southeast  | 2 |\n",
    "| Southwest  | 3 |"
   ]
  },
  {
   "cell_type": "code",
   "execution_count": 4,
   "metadata": {},
   "outputs": [
    {
     "data": {
      "text/plain": [
       "array([0, 1])"
      ]
     },
     "execution_count": 4,
     "metadata": {},
     "output_type": "execute_result"
    }
   ],
   "source": [
    "le = LabelEncoder()\n",
    "ins[\"sex\"] = le.fit_transform(ins[\"sex\"])\n",
    "ins[\"sex\"].unique()"
   ]
  },
  {
   "cell_type": "code",
   "execution_count": 5,
   "metadata": {},
   "outputs": [
    {
     "data": {
      "text/plain": [
       "array([1, 0])"
      ]
     },
     "execution_count": 5,
     "metadata": {},
     "output_type": "execute_result"
    }
   ],
   "source": [
    "ins[\"smoker\"] = le.fit_transform(ins[\"smoker\"])\n",
    "ins[\"smoker\"].unique()"
   ]
  },
  {
   "cell_type": "code",
   "execution_count": 6,
   "metadata": {},
   "outputs": [
    {
     "data": {
      "text/plain": [
       "array([3, 2, 1, 0])"
      ]
     },
     "execution_count": 6,
     "metadata": {},
     "output_type": "execute_result"
    }
   ],
   "source": [
    "ins[\"region\"] = le.fit_transform(ins[\"region\"])\n",
    "ins[\"region\"].unique()"
   ]
  },
  {
   "cell_type": "code",
   "execution_count": 7,
   "metadata": {},
   "outputs": [
    {
     "data": {
      "text/html": [
       "<div>\n",
       "<style scoped>\n",
       "    .dataframe tbody tr th:only-of-type {\n",
       "        vertical-align: middle;\n",
       "    }\n",
       "\n",
       "    .dataframe tbody tr th {\n",
       "        vertical-align: top;\n",
       "    }\n",
       "\n",
       "    .dataframe thead th {\n",
       "        text-align: right;\n",
       "    }\n",
       "</style>\n",
       "<table border=\"1\" class=\"dataframe\">\n",
       "  <thead>\n",
       "    <tr style=\"text-align: right;\">\n",
       "      <th></th>\n",
       "      <th>age</th>\n",
       "      <th>sex</th>\n",
       "      <th>bmi</th>\n",
       "      <th>children</th>\n",
       "      <th>smoker</th>\n",
       "      <th>region</th>\n",
       "      <th>charges</th>\n",
       "    </tr>\n",
       "  </thead>\n",
       "  <tbody>\n",
       "    <tr>\n",
       "      <th>0</th>\n",
       "      <td>19</td>\n",
       "      <td>0</td>\n",
       "      <td>27.900</td>\n",
       "      <td>0</td>\n",
       "      <td>1</td>\n",
       "      <td>3</td>\n",
       "      <td>16884.92400</td>\n",
       "    </tr>\n",
       "    <tr>\n",
       "      <th>1</th>\n",
       "      <td>18</td>\n",
       "      <td>1</td>\n",
       "      <td>33.770</td>\n",
       "      <td>1</td>\n",
       "      <td>0</td>\n",
       "      <td>2</td>\n",
       "      <td>1725.55230</td>\n",
       "    </tr>\n",
       "    <tr>\n",
       "      <th>2</th>\n",
       "      <td>28</td>\n",
       "      <td>1</td>\n",
       "      <td>33.000</td>\n",
       "      <td>3</td>\n",
       "      <td>0</td>\n",
       "      <td>2</td>\n",
       "      <td>4449.46200</td>\n",
       "    </tr>\n",
       "    <tr>\n",
       "      <th>3</th>\n",
       "      <td>33</td>\n",
       "      <td>1</td>\n",
       "      <td>22.705</td>\n",
       "      <td>0</td>\n",
       "      <td>0</td>\n",
       "      <td>1</td>\n",
       "      <td>21984.47061</td>\n",
       "    </tr>\n",
       "    <tr>\n",
       "      <th>4</th>\n",
       "      <td>32</td>\n",
       "      <td>1</td>\n",
       "      <td>28.880</td>\n",
       "      <td>0</td>\n",
       "      <td>0</td>\n",
       "      <td>1</td>\n",
       "      <td>3866.85520</td>\n",
       "    </tr>\n",
       "  </tbody>\n",
       "</table>\n",
       "</div>"
      ],
      "text/plain": [
       "   age  sex     bmi  children  smoker  region      charges\n",
       "0   19    0  27.900         0       1       3  16884.92400\n",
       "1   18    1  33.770         1       0       2   1725.55230\n",
       "2   28    1  33.000         3       0       2   4449.46200\n",
       "3   33    1  22.705         0       0       1  21984.47061\n",
       "4   32    1  28.880         0       0       1   3866.85520"
      ]
     },
     "execution_count": 7,
     "metadata": {},
     "output_type": "execute_result"
    }
   ],
   "source": [
    "ins.head()"
   ]
  },
  {
   "cell_type": "code",
   "execution_count": 8,
   "metadata": {},
   "outputs": [
    {
     "name": "stdout",
     "output_type": "stream",
     "text": [
      "<class 'pandas.core.frame.DataFrame'>\n",
      "RangeIndex: 1338 entries, 0 to 1337\n",
      "Data columns (total 7 columns):\n",
      " #   Column    Non-Null Count  Dtype  \n",
      "---  ------    --------------  -----  \n",
      " 0   age       1338 non-null   int64  \n",
      " 1   sex       1338 non-null   int32  \n",
      " 2   bmi       1338 non-null   float64\n",
      " 3   children  1338 non-null   int64  \n",
      " 4   smoker    1338 non-null   int32  \n",
      " 5   region    1338 non-null   int32  \n",
      " 6   charges   1338 non-null   float64\n",
      "dtypes: float64(2), int32(3), int64(2)\n",
      "memory usage: 57.6 KB\n"
     ]
    }
   ],
   "source": [
    "ins.info()"
   ]
  },
  {
   "cell_type": "code",
   "execution_count": 9,
   "metadata": {},
   "outputs": [],
   "source": [
    "X = ins.drop('charges', axis=1)\n",
    "y = ins['charges']"
   ]
  },
  {
   "cell_type": "code",
   "execution_count": 10,
   "metadata": {},
   "outputs": [
    {
     "data": {
      "text/html": [
       "<div>\n",
       "<style scoped>\n",
       "    .dataframe tbody tr th:only-of-type {\n",
       "        vertical-align: middle;\n",
       "    }\n",
       "\n",
       "    .dataframe tbody tr th {\n",
       "        vertical-align: top;\n",
       "    }\n",
       "\n",
       "    .dataframe thead th {\n",
       "        text-align: right;\n",
       "    }\n",
       "</style>\n",
       "<table border=\"1\" class=\"dataframe\">\n",
       "  <thead>\n",
       "    <tr style=\"text-align: right;\">\n",
       "      <th></th>\n",
       "      <th>age</th>\n",
       "      <th>sex</th>\n",
       "      <th>bmi</th>\n",
       "      <th>children</th>\n",
       "      <th>smoker</th>\n",
       "      <th>region</th>\n",
       "    </tr>\n",
       "  </thead>\n",
       "  <tbody>\n",
       "    <tr>\n",
       "      <th>0</th>\n",
       "      <td>19</td>\n",
       "      <td>0</td>\n",
       "      <td>27.900</td>\n",
       "      <td>0</td>\n",
       "      <td>1</td>\n",
       "      <td>3</td>\n",
       "    </tr>\n",
       "    <tr>\n",
       "      <th>1</th>\n",
       "      <td>18</td>\n",
       "      <td>1</td>\n",
       "      <td>33.770</td>\n",
       "      <td>1</td>\n",
       "      <td>0</td>\n",
       "      <td>2</td>\n",
       "    </tr>\n",
       "    <tr>\n",
       "      <th>2</th>\n",
       "      <td>28</td>\n",
       "      <td>1</td>\n",
       "      <td>33.000</td>\n",
       "      <td>3</td>\n",
       "      <td>0</td>\n",
       "      <td>2</td>\n",
       "    </tr>\n",
       "    <tr>\n",
       "      <th>3</th>\n",
       "      <td>33</td>\n",
       "      <td>1</td>\n",
       "      <td>22.705</td>\n",
       "      <td>0</td>\n",
       "      <td>0</td>\n",
       "      <td>1</td>\n",
       "    </tr>\n",
       "    <tr>\n",
       "      <th>4</th>\n",
       "      <td>32</td>\n",
       "      <td>1</td>\n",
       "      <td>28.880</td>\n",
       "      <td>0</td>\n",
       "      <td>0</td>\n",
       "      <td>1</td>\n",
       "    </tr>\n",
       "  </tbody>\n",
       "</table>\n",
       "</div>"
      ],
      "text/plain": [
       "   age  sex     bmi  children  smoker  region\n",
       "0   19    0  27.900         0       1       3\n",
       "1   18    1  33.770         1       0       2\n",
       "2   28    1  33.000         3       0       2\n",
       "3   33    1  22.705         0       0       1\n",
       "4   32    1  28.880         0       0       1"
      ]
     },
     "execution_count": 10,
     "metadata": {},
     "output_type": "execute_result"
    }
   ],
   "source": [
    "X.head()"
   ]
  },
  {
   "cell_type": "code",
   "execution_count": 11,
   "metadata": {},
   "outputs": [
    {
     "data": {
      "text/plain": [
       "0    16884.92400\n",
       "1     1725.55230\n",
       "2     4449.46200\n",
       "3    21984.47061\n",
       "4     3866.85520\n",
       "Name: charges, dtype: float64"
      ]
     },
     "execution_count": 11,
     "metadata": {},
     "output_type": "execute_result"
    }
   ],
   "source": [
    "y.head()"
   ]
  },
  {
   "cell_type": "code",
   "execution_count": 12,
   "metadata": {},
   "outputs": [
    {
     "name": "stdout",
     "output_type": "stream",
     "text": [
      "X_train shape: (936, 6)\n",
      "X_test shape: (402, 6)\n",
      "y_train shape: (936,)\n",
      "y_test shape: (402,)\n"
     ]
    }
   ],
   "source": [
    "X_train, X_test, y_train, y_test = train_test_split(X, y, test_size=0.3, random_state=42)\n",
    "print(\"X_train shape: {}\".format(X_train.shape))\n",
    "print(\"X_test shape: {}\".format(X_test.shape))\n",
    "print(\"y_train shape: {}\".format(y_train.shape))\n",
    "print(\"y_test shape: {}\".format(y_test.shape))"
   ]
  },
  {
   "cell_type": "markdown",
   "metadata": {},
   "source": [
    "## Model 1: Linear regression"
   ]
  },
  {
   "cell_type": "code",
   "execution_count": 13,
   "metadata": {},
   "outputs": [
    {
     "name": "stdout",
     "output_type": "stream",
     "text": [
      "R2 train score: 0.7422571320172101\n",
      "R2 test score: 0.7694415927057693\n"
     ]
    }
   ],
   "source": [
    "LR = LinearRegression().fit(X_train, y_train)\n",
    "print(\"R2 train score: {}\".format(LR.score(X_train, y_train)))\n",
    "print(\"R2 test score: {}\".format(LR.score(X_test, y_test)))"
   ]
  },
  {
   "cell_type": "markdown",
   "metadata": {},
   "source": [
    "## Model 2: Polynomial linear regression (degree = 2)"
   ]
  },
  {
   "cell_type": "code",
   "execution_count": 14,
   "metadata": {},
   "outputs": [
    {
     "name": "stdout",
     "output_type": "stream",
     "text": [
      "R2 train score (degree=2): 0.8384232211576609\n",
      "R2 test score (degree=2): 0.8637557014627594\n"
     ]
    }
   ],
   "source": [
    "Poly2_LR = make_pipeline(\n",
    "    PolynomialFeatures(degree=2), \n",
    "    LinearRegression())\n",
    "Poly2_LR.fit(X_train, y_train)\n",
    "print(\"R2 train score (degree=2): {}\".format(Poly2_LR.score(X_train, y_train)))\n",
    "print(\"R2 test score (degree=2): {}\".format(Poly2_LR.score(X_test, y_test)))"
   ]
  },
  {
   "cell_type": "markdown",
   "metadata": {},
   "source": [
    "## Model 3: Polynomial linear regression (degree = 3)"
   ]
  },
  {
   "cell_type": "code",
   "execution_count": 15,
   "metadata": {},
   "outputs": [
    {
     "name": "stdout",
     "output_type": "stream",
     "text": [
      "R2 train score (degree=3): 0.849434266026776\n",
      "R2 test score (degree=3): 0.8553016870118224\n"
     ]
    }
   ],
   "source": [
    "Poly3_LR = make_pipeline(\n",
    "    PolynomialFeatures(degree=3), \n",
    "    LinearRegression())\n",
    "Poly3_LR.fit(X_train, y_train)\n",
    "print(\"R2 train score (degree=3): {}\".format(Poly3_LR.score(X_train, y_train)))\n",
    "print(\"R2 test score (degree=3): {}\".format(Poly3_LR.score(X_test, y_test)))"
   ]
  },
  {
   "cell_type": "code",
   "execution_count": 16,
   "metadata": {},
   "outputs": [
    {
     "name": "stdout",
     "output_type": "stream",
     "text": [
      "Feature shape (degree=2): (936, 28)\n",
      "Feature shape (degree=3): (936, 84)\n"
     ]
    }
   ],
   "source": [
    "# Polynomial transformations overfit due to the comparably small amount of data\n",
    "poly = PolynomialFeatures(degree=2).fit_transform(X_train)\n",
    "print(\"Feature shape (degree=2): {}\".format(poly.shape))\n",
    "poly = PolynomialFeatures(degree=3).fit_transform(X_train)\n",
    "print(\"Feature shape (degree=3): {}\".format(poly.shape))"
   ]
  },
  {
   "cell_type": "markdown",
   "metadata": {},
   "source": [
    "## Model 4: Linear regression with feature scaling"
   ]
  },
  {
   "cell_type": "code",
   "execution_count": 17,
   "metadata": {},
   "outputs": [
    {
     "name": "stdout",
     "output_type": "stream",
     "text": [
      "R2 train score: 0.7422571320172101\n",
      "R2 test score: 0.7694415927057693\n"
     ]
    }
   ],
   "source": [
    "scaler=MinMaxScaler().fit(X_train)\n",
    "X_train_scaled=scaler.transform(X_train)\n",
    "X_test_scaled=scaler.transform(X_test)\n",
    "LR_s = LinearRegression().fit(X_train_scaled, y_train)\n",
    "print(\"R2 train score: {}\".format(LR_s.score(X_train_scaled, y_train)))\n",
    "print(\"R2 test score: {}\".format(LR_s.score(X_test_scaled, y_test)))"
   ]
  },
  {
   "cell_type": "markdown",
   "metadata": {},
   "source": [
    "## Model 5: Regularized linear regression (Lasso)"
   ]
  },
  {
   "cell_type": "code",
   "execution_count": 18,
   "metadata": {},
   "outputs": [],
   "source": [
    "from sklearn.linear_model import Lasso\n",
    "\n",
    "def PolynomialLasso(degree=2, **kwargs):\n",
    "    return make_pipeline(PolynomialFeatures(degree),\n",
    "                         Lasso(**kwargs))"
   ]
  },
  {
   "cell_type": "code",
   "execution_count": 19,
   "metadata": {},
   "outputs": [
    {
     "name": "stdout",
     "output_type": "stream",
     "text": [
      "Train score 0.7422571133459799\n",
      "Test score 0.7694414843791915\n"
     ]
    }
   ],
   "source": [
    "Lasso_LR=Lasso(alpha=.5).fit(X_train, y_train)\n",
    "print(\"Train score\", Lasso_LR.score(X_train, y_train))\n",
    "print(\"Test score\", Lasso_LR.score(X_test, y_test))"
   ]
  },
  {
   "cell_type": "markdown",
   "metadata": {},
   "source": [
    "## Model 6: Regularized polynomial linear regression (Lasso) (degree = 2)"
   ]
  },
  {
   "cell_type": "code",
   "execution_count": 20,
   "metadata": {},
   "outputs": [
    {
     "name": "stdout",
     "output_type": "stream",
     "text": [
      "Train score 0.8384231835776196\n",
      "Test score 0.8637606920483564\n",
      "Features all 28\n",
      "Features used 27\n",
      "Features NOT used 1\n"
     ]
    }
   ],
   "source": [
    "Lasso_Poly2 = PolynomialLasso(2, alpha = 0.1, max_iter=1e5)\n",
    "Lasso_Poly2.fit(X_train, y_train)\n",
    "\n",
    "print(\"Train score\", Lasso_Poly2.score(X_train, y_train))\n",
    "print(\"Test score\", Lasso_Poly2.score(X_test, y_test))\n",
    "k = Lasso_Poly2.steps[1][1].coef_\n",
    "print(\"Features all\", len(k))\n",
    "print(\"Features used\", sum(Lasso_Poly2.steps[1][1].coef_ != 0))\n",
    "print(\"Features NOT used\", sum(Lasso_Poly2.steps[1][1].coef_ == 0))"
   ]
  },
  {
   "cell_type": "markdown",
   "metadata": {},
   "source": [
    "## Model 7: Regularized polynomial linear regression (Lasso) (degree = 3)"
   ]
  },
  {
   "cell_type": "code",
   "execution_count": 21,
   "metadata": {},
   "outputs": [
    {
     "name": "stdout",
     "output_type": "stream",
     "text": [
      "Train score 0.8493280865435524\n",
      "Test score 0.8573866769106779\n",
      "Features all 84\n",
      "Features used 80\n",
      "Features NOT used 4\n"
     ]
    },
    {
     "name": "stderr",
     "output_type": "stream",
     "text": [
      "C:\\Users\\Asus\\anaconda3\\lib\\site-packages\\sklearn\\linear_model\\_coordinate_descent.py:529: ConvergenceWarning: Objective did not converge. You might want to increase the number of iterations. Duality gap: 3458856719.965515, tolerance: 13709441.61277771\n",
      "  model = cd_fast.enet_coordinate_descent(\n"
     ]
    }
   ],
   "source": [
    "Lasso_Poly3 = PolynomialLasso(3, alpha = 1, max_iter=1e5)\n",
    "Lasso_Poly3.fit(X_train, y_train)\n",
    "\n",
    "print(\"Train score\", Lasso_Poly3.score(X_train, y_train))\n",
    "print(\"Test score\", Lasso_Poly3.score(X_test, y_test))\n",
    "k = Lasso_Poly3.steps[1][1].coef_\n",
    "print(\"Features all\", len(k))\n",
    "print(\"Features used\", sum(Lasso_Poly3.steps[1][1].coef_ != 0))\n",
    "print(\"Features NOT used\", sum(Lasso_Poly3.steps[1][1].coef_ == 0))"
   ]
  },
  {
   "cell_type": "markdown",
   "metadata": {},
   "source": [
    "## Model 8: Regularized linear regression (Ridge)"
   ]
  },
  {
   "cell_type": "code",
   "execution_count": 22,
   "metadata": {},
   "outputs": [],
   "source": [
    "from sklearn.linear_model import Ridge\n",
    "\n",
    "def PolynomialRidge(degree=2, **kwargs):\n",
    "    return make_pipeline(PolynomialFeatures(degree),\n",
    "                         Ridge(**kwargs))"
   ]
  },
  {
   "cell_type": "code",
   "execution_count": 23,
   "metadata": {},
   "outputs": [
    {
     "name": "stdout",
     "output_type": "stream",
     "text": [
      "Train score 0.7422505546331573\n",
      "Test score 0.7693307567863181\n"
     ]
    }
   ],
   "source": [
    "Ridge_LR=Ridge(alpha=.5).fit(X_train, y_train)\n",
    "print(\"Train score\", Ridge_LR.score(X_train, y_train))\n",
    "print(\"Test score\", Ridge_LR.score(X_test, y_test))"
   ]
  },
  {
   "cell_type": "markdown",
   "metadata": {},
   "source": [
    "## Model 9: Regularized polynomial linear regression (Ridge) (degree = 2)"
   ]
  },
  {
   "cell_type": "code",
   "execution_count": 24,
   "metadata": {},
   "outputs": [
    {
     "name": "stdout",
     "output_type": "stream",
     "text": [
      "Train score 0.8384215247926726\n",
      "Test score 0.8637749658204714\n",
      "Features all 28\n",
      "Features used 27\n",
      "Features NOT used 1\n"
     ]
    }
   ],
   "source": [
    "Ridge_Poly2 = PolynomialRidge(2, alpha = 0.1, max_iter=1e5)\n",
    "Ridge_Poly2.fit(X_train, y_train)\n",
    "print(\"Train score\", Ridge_Poly2.score(X_train, y_train))\n",
    "print(\"Test score\", Ridge_Poly2.score(X_test, y_test))\n",
    "k = Ridge_Poly2.steps[1][1].coef_\n",
    "print(\"Features all\", len(k))\n",
    "print(\"Features used\", sum(Ridge_Poly2.steps[1][1].coef_ != 0))\n",
    "print(\"Features NOT used\", sum(Ridge_Poly2.steps[1][1].coef_ == 0))"
   ]
  },
  {
   "cell_type": "markdown",
   "metadata": {},
   "source": [
    "## Model 10: Regularized polynomial linear regression (Ridge) (degree = 3)"
   ]
  },
  {
   "cell_type": "code",
   "execution_count": 25,
   "metadata": {},
   "outputs": [
    {
     "name": "stdout",
     "output_type": "stream",
     "text": [
      "Train score 0.847559966712821\n",
      "Test score 0.8602797338537619\n",
      "Features all 84\n",
      "Features used 83\n",
      "Features NOT used 1\n"
     ]
    }
   ],
   "source": [
    "Ridge_Poly3 = PolynomialRidge(3, alpha = 1, max_iter=1e5)\n",
    "Ridge_Poly3.fit(X_train, y_train)\n",
    "\n",
    "print(\"Train score\", Ridge_Poly3.score(X_train, y_train))\n",
    "print(\"Test score\", Ridge_Poly3.score(X_test, y_test))\n",
    "k = Ridge_Poly3.steps[1][1].coef_\n",
    "print(\"Features all\", len(k))\n",
    "print(\"Features used\", sum(Ridge_Poly3.steps[1][1].coef_ != 0))\n",
    "print(\"Features NOT used\", sum(Ridge_Poly3.steps[1][1].coef_ == 0))"
   ]
  },
  {
   "cell_type": "markdown",
   "metadata": {},
   "source": [
    "## Model 11: Regularized linear regression (ElasticNet)"
   ]
  },
  {
   "cell_type": "code",
   "execution_count": 26,
   "metadata": {},
   "outputs": [],
   "source": [
    "from sklearn.linear_model import ElasticNet\n",
    "\n",
    "def PolynomialElastic(degree=2, **kwargs):\n",
    "    return make_pipeline(PolynomialFeatures(degree),\n",
    "                         ElasticNet(**kwargs))"
   ]
  },
  {
   "cell_type": "code",
   "execution_count": 27,
   "metadata": {},
   "outputs": [
    {
     "name": "stdout",
     "output_type": "stream",
     "text": [
      "Train score 0.33127749632613657\n",
      "Test score 0.34862984284789267\n"
     ]
    }
   ],
   "source": [
    "Elastic_LR=ElasticNet(alpha=1, l1_ratio=0.3).fit(X_train, y_train)\n",
    "print(\"Train score\", Elastic_LR.score(X_train, y_train))\n",
    "print(\"Test score\", Elastic_LR.score(X_test, y_test))"
   ]
  },
  {
   "cell_type": "markdown",
   "metadata": {},
   "source": [
    "## Model 12: Regularized polynomial linear regression (ElasticNet) (degree = 2)"
   ]
  },
  {
   "cell_type": "code",
   "execution_count": 28,
   "metadata": {},
   "outputs": [
    {
     "name": "stdout",
     "output_type": "stream",
     "text": [
      "Train score 0.8236641131918638\n",
      "Test score 0.850662204346229\n",
      "Features all 28\n",
      "Features used 27\n",
      "Features NOT used 1\n"
     ]
    }
   ],
   "source": [
    "Elastic_Poly2 = PolynomialElastic(2, alpha = 1, l1_ratio=0.5, max_iter=1e5)\n",
    "Elastic_Poly2.fit(X_train, y_train)\n",
    "print(\"Train score\", Elastic_Poly2.score(X_train, y_train))\n",
    "print(\"Test score\", Elastic_Poly2.score(X_test, y_test))\n",
    "k = Elastic_Poly2.steps[1][1].coef_\n",
    "print(\"Features all\", len(k))\n",
    "print(\"Features used\", sum(Elastic_Poly2.steps[1][1].coef_ != 0))\n",
    "print(\"Features NOT used\", sum(Elastic_Poly2.steps[1][1].coef_ == 0))"
   ]
  },
  {
   "cell_type": "markdown",
   "metadata": {},
   "source": [
    "## Model 13: Regularized polynomial linear regression (ElasticNet) (degree = 3)"
   ]
  },
  {
   "cell_type": "code",
   "execution_count": 29,
   "metadata": {},
   "outputs": [
    {
     "name": "stdout",
     "output_type": "stream",
     "text": [
      "Train score 0.8415443890964753\n",
      "Test score 0.8648084174557463\n",
      "Features all 84\n",
      "Features used 81\n",
      "Features NOT used 3\n"
     ]
    }
   ],
   "source": [
    "Elastic_Poly3 = PolynomialElastic(3, alpha = 1, l1_ratio=0.5, max_iter=1e5)\n",
    "Elastic_Poly3.fit(X_train, y_train)\n",
    "print(\"Train score\", Elastic_Poly3.score(X_train, y_train))\n",
    "print(\"Test score\", Elastic_Poly3.score(X_test, y_test))\n",
    "k = Elastic_Poly3.steps[1][1].coef_\n",
    "print(\"Features all\", len(k))\n",
    "print(\"Features used\", sum(Elastic_Poly3.steps[1][1].coef_ != 0))\n",
    "print(\"Features NOT used\", sum(Elastic_Poly3.steps[1][1].coef_ == 0))"
   ]
  },
  {
   "cell_type": "markdown",
   "metadata": {},
   "source": [
    "# Summary"
   ]
  },
  {
   "cell_type": "code",
   "execution_count": 30,
   "metadata": {},
   "outputs": [],
   "source": [
    "col1 = pd.Series({\"Model 1\": round(LR.score(X_train, y_train),4), \"Model 2\": round(Poly2_LR.score(X_train, y_train),4), \n",
    "                  \"Model 3\": round(Poly3_LR.score(X_train, y_train),4), \"Model 4\": round(LR_s.score(X_train_scaled, y_train), 4), \n",
    "                  \"Model 5\": round(Lasso_LR.score(X_train, y_train),4), \"Model 6\": round(Lasso_Poly2.score(X_train, y_train),4), \n",
    "                  \"Model 7\": round(Lasso_Poly3.score(X_train, y_train),4), \"Model 8\": round(Ridge_LR.score(X_train, y_train),4), \n",
    "                  \"Model 9\": round(Ridge_Poly2.score(X_train, y_train),4), \"Model 10\": round(Ridge_Poly3.score(X_train, y_train),4), \n",
    "                  \"Model 11\": round(Elastic_LR.score(X_train, y_train),4), \"Model 12\": round(Elastic_Poly2.score(X_train, y_train),4), \n",
    "                  \"Model 13\": round(Elastic_Poly3.score(X_train, y_train),4)})\n",
    "col2 = pd.Series({\"Model 1\": round(LR.score(X_test, y_test),4), \"Model 2\": round(Poly2_LR.score(X_test, y_test),4), \n",
    "                  \"Model 3\": round(Poly3_LR.score(X_test, y_test),4), \"Model 4\": round(LR_s.score(X_test_scaled, y_test),4), \n",
    "                  \"Model 5\": round(Lasso_LR.score(X_test, y_test),4), \"Model 6\": round(Lasso_Poly2.score(X_test, y_test),4), \n",
    "                  \"Model 7\": round(Lasso_Poly3.score(X_test, y_test),4), \"Model 8\": round(Ridge_LR.score(X_test, y_test),4), \n",
    "                  \"Model 9\": round(Ridge_Poly2.score(X_test, y_test),4), \"Model 10\": round(Ridge_Poly3.score(X_test, y_test),4), \n",
    "                  \"Model 11\": round(Elastic_LR.score(X_test, y_test),4), \"Model 12\": round(Elastic_Poly2.score(X_test, y_test),4), \n",
    "                  \"Model 13\": round(Elastic_Poly3.score(X_train, y_train),4)})"
   ]
  },
  {
   "cell_type": "code",
   "execution_count": 31,
   "metadata": {},
   "outputs": [
    {
     "data": {
      "text/html": [
       "<div>\n",
       "<style scoped>\n",
       "    .dataframe tbody tr th:only-of-type {\n",
       "        vertical-align: middle;\n",
       "    }\n",
       "\n",
       "    .dataframe tbody tr th {\n",
       "        vertical-align: top;\n",
       "    }\n",
       "\n",
       "    .dataframe thead th {\n",
       "        text-align: right;\n",
       "    }\n",
       "</style>\n",
       "<table border=\"1\" class=\"dataframe\">\n",
       "  <thead>\n",
       "    <tr style=\"text-align: right;\">\n",
       "      <th></th>\n",
       "      <th>Train score</th>\n",
       "      <th>Test Score</th>\n",
       "    </tr>\n",
       "  </thead>\n",
       "  <tbody>\n",
       "    <tr>\n",
       "      <th>Model 1</th>\n",
       "      <td>0.7423</td>\n",
       "      <td>0.7694</td>\n",
       "    </tr>\n",
       "    <tr>\n",
       "      <th>Model 2</th>\n",
       "      <td>0.8384</td>\n",
       "      <td>0.8638</td>\n",
       "    </tr>\n",
       "    <tr>\n",
       "      <th>Model 3</th>\n",
       "      <td>0.8494</td>\n",
       "      <td>0.8553</td>\n",
       "    </tr>\n",
       "    <tr>\n",
       "      <th>Model 4</th>\n",
       "      <td>0.7423</td>\n",
       "      <td>0.7694</td>\n",
       "    </tr>\n",
       "    <tr>\n",
       "      <th>Model 5</th>\n",
       "      <td>0.7423</td>\n",
       "      <td>0.7694</td>\n",
       "    </tr>\n",
       "    <tr>\n",
       "      <th>Model 6</th>\n",
       "      <td>0.8384</td>\n",
       "      <td>0.8638</td>\n",
       "    </tr>\n",
       "    <tr>\n",
       "      <th>Model 7</th>\n",
       "      <td>0.8493</td>\n",
       "      <td>0.8574</td>\n",
       "    </tr>\n",
       "    <tr>\n",
       "      <th>Model 8</th>\n",
       "      <td>0.7423</td>\n",
       "      <td>0.7693</td>\n",
       "    </tr>\n",
       "    <tr>\n",
       "      <th>Model 9</th>\n",
       "      <td>0.8384</td>\n",
       "      <td>0.8638</td>\n",
       "    </tr>\n",
       "    <tr>\n",
       "      <th>Model 10</th>\n",
       "      <td>0.8476</td>\n",
       "      <td>0.8603</td>\n",
       "    </tr>\n",
       "    <tr>\n",
       "      <th>Model 11</th>\n",
       "      <td>0.3313</td>\n",
       "      <td>0.3486</td>\n",
       "    </tr>\n",
       "    <tr>\n",
       "      <th>Model 12</th>\n",
       "      <td>0.8237</td>\n",
       "      <td>0.8507</td>\n",
       "    </tr>\n",
       "    <tr>\n",
       "      <th>Model 13</th>\n",
       "      <td>0.8415</td>\n",
       "      <td>0.8415</td>\n",
       "    </tr>\n",
       "  </tbody>\n",
       "</table>\n",
       "</div>"
      ],
      "text/plain": [
       "          Train score  Test Score\n",
       "Model 1        0.7423      0.7694\n",
       "Model 2        0.8384      0.8638\n",
       "Model 3        0.8494      0.8553\n",
       "Model 4        0.7423      0.7694\n",
       "Model 5        0.7423      0.7694\n",
       "Model 6        0.8384      0.8638\n",
       "Model 7        0.8493      0.8574\n",
       "Model 8        0.7423      0.7693\n",
       "Model 9        0.8384      0.8638\n",
       "Model 10       0.8476      0.8603\n",
       "Model 11       0.3313      0.3486\n",
       "Model 12       0.8237      0.8507\n",
       "Model 13       0.8415      0.8415"
      ]
     },
     "execution_count": 31,
     "metadata": {},
     "output_type": "execute_result"
    }
   ],
   "source": [
    "df = pd.DataFrame(data={\"Train score\": col1, \"Test Score\": col2})\n",
    "df"
   ]
  },
  {
   "cell_type": "markdown",
   "metadata": {},
   "source": [
    "From the comparison above, it can be inferred that these models has performed the best, in compared to other models.\n",
    "\n",
    "| Model No.  | Model Name  |\n",
    "|------|-----|\n",
    "| Model 2  | Polynomial linear regression (degree = 2) |\n",
    "| Model 6  | Regularized polynomial linear regression (Lasso) (degree = 2) |\n",
    "| Model 9  | Regularized polynomial linear regression (Ridge) (degree = 2) |"
   ]
  }
 ],
 "metadata": {
  "kernelspec": {
   "display_name": "Python 3",
   "language": "python",
   "name": "python3"
  },
  "language_info": {
   "codemirror_mode": {
    "name": "ipython",
    "version": 3
   },
   "file_extension": ".py",
   "mimetype": "text/x-python",
   "name": "python",
   "nbconvert_exporter": "python",
   "pygments_lexer": "ipython3",
   "version": "3.8.3"
  }
 },
 "nbformat": 4,
 "nbformat_minor": 4
}
